{
 "cells": [
  {
   "cell_type": "markdown",
   "metadata": {},
   "source": [
    "# LAB | Error Handling in Python\n",
    "\n",
    "## Overview\n",
    "This exercise notebook will help you practice error handling in Python using exceptions. You will write programs that handle various types of exceptions to ensure your code runs smoothly and handles errors gracefully."
   ]
  },
  {
   "cell_type": "markdown",
   "metadata": {},
   "source": [
    "### Exercise 1: Handle ZeroDivisionError\n",
    "Write a Python program to handle a `ZeroDivisionError` exception when dividing a number by zero.\n"
   ]
  },
  {
   "cell_type": "code",
   "execution_count": 16,
   "metadata": {},
   "outputs": [
    {
     "name": "stdout",
     "output_type": "stream",
     "text": [
      "Error: You cannot divide by zero!\n",
      "Program continues after the exception handling.\n"
     ]
    }
   ],
   "source": [
    "# Your code here\n",
    "\n",
    "# Program to handle division by zero\n",
    "\n",
    "try:\n",
    "    numerator = float(input(\"Enter the numerator: \"))\n",
    "    denominator = float(input(\"Enter the denominator: \"))\n",
    "    result = numerator / denominator\n",
    "    print(\"Result:\", result)\n",
    "\n",
    "except ZeroDivisionError:\n",
    "    print(\"Error: You cannot divide by zero!\")\n",
    "\n",
    "print(\"Program continues after the exception handling.\")\n"
   ]
  },
  {
   "cell_type": "markdown",
   "metadata": {},
   "source": [
    "\n",
    "### Exercise 2: Raise ValueError for Invalid Input\n",
    "Write a Python program that prompts the user to input an integer and raises a `ValueError` exception if the input is not a valid integer.\n",
    "\n"
   ]
  },
  {
   "cell_type": "code",
   "execution_count": 17,
   "metadata": {},
   "outputs": [
    {
     "name": "stdout",
     "output_type": "stream",
     "text": [
      "Error: That was not a valid integer!\n"
     ]
    }
   ],
   "source": [
    "# Your code here\n",
    "\n",
    "# Program to handle invalid integer input using ValueError\n",
    "\n",
    "try:\n",
    "    user_input = input(\"Enter an integer: \")\n",
    "    number = int(user_input)\n",
    "    print(\"You entered:\", number)\n",
    "\n",
    "except ValueError:\n",
    "    print(\"Error: That was not a valid integer!\")\n"
   ]
  },
  {
   "cell_type": "markdown",
   "metadata": {},
   "source": [
    "\n",
    "\n",
    "### Exercise 3: Handle FileNotFoundError\n",
    "Write a Python program that opens a file and handles a `FileNotFoundError` exception if the file does not exist.\n",
    "\n"
   ]
  },
  {
   "cell_type": "code",
   "execution_count": 20,
   "metadata": {},
   "outputs": [
    {
     "name": "stdout",
     "output_type": "stream",
     "text": [
      "Error: The file you specified does not exist.\n"
     ]
    }
   ],
   "source": [
    "# Your code here\n",
    "\n",
    "# Program to handle file not found error\n",
    "\n",
    "try:\n",
    "    filename = input(\"Enter the filename to open: \")\n",
    "    with open(filename, 'r') as file:\n",
    "        content = file.read()\n",
    "        print(\"\\nFile content:\\n\", content)\n",
    "\n",
    "except FileNotFoundError:\n",
    "    print(\"Error: The file you specified does not exist.\")\n"
   ]
  },
  {
   "cell_type": "markdown",
   "metadata": {},
   "source": [
    "\n",
    "\n",
    "### Exercise 4: Raise TypeError for Non-Numerical Input\n",
    "Write a Python program that prompts the user to input two numbers and raises a `TypeError` exception if the inputs are not numerical.\n",
    "\n"
   ]
  },
  {
   "cell_type": "code",
   "execution_count": 21,
   "metadata": {},
   "outputs": [
    {
     "name": "stdout",
     "output_type": "stream",
     "text": [
      "Type Error: Both inputs must be numbers.\n"
     ]
    }
   ],
   "source": [
    "# Your code here\n",
    "\n",
    "# Program to handle non-numerical input with TypeError\n",
    "\n",
    "try:\n",
    "    a = input(\"Enter the first number: \")\n",
    "    b = input(\"Enter the second number: \")\n",
    "\n",
    "    # Try converting inputs to float\n",
    "    try:\n",
    "        a = float(a)\n",
    "        b = float(b)\n",
    "    except ValueError:\n",
    "        # If conversion fails, raise a TypeError manually\n",
    "        raise TypeError(\"Both inputs must be numbers.\")\n",
    "\n",
    "    result = a + b\n",
    "    print(\"Sum is:\", result)\n",
    "\n",
    "except TypeError as te:\n",
    "    print(\"Type Error:\", te)\n"
   ]
  },
  {
   "cell_type": "markdown",
   "metadata": {},
   "source": [
    "\n",
    "\n",
    "### Exercise 5: Handle PermissionError\n",
    "Write a Python program that opens a file and handles a `PermissionError` exception if there is a permission issue.\n",
    "\n",
    "\n"
   ]
  },
  {
   "cell_type": "code",
   "execution_count": null,
   "metadata": {},
   "outputs": [
    {
     "name": "stdout",
     "output_type": "stream",
     "text": [
      "Error: File does not exist.\n"
     ]
    }
   ],
   "source": [
    "# Your code here\n",
    "\n",
    "# Program to handle both file not found and permission errors\n",
    "#Protected file name : Superuser.com\n",
    "\n",
    "try:\n",
    "    filename = input(\"Enter the filename to open: \")\n",
    "    with open(filename, 'r') as file:\n",
    "        content = file.read()\n",
    "        print(\"\\nFile content:\\n\", content)\n",
    "\n",
    "except FileNotFoundError:\n",
    "    print(\"Error: File does not exist.\")\n",
    "except PermissionError:\n",
    "    print(\"Error: You do not have permission to access this file.\")\n",
    "\n"
   ]
  },
  {
   "cell_type": "markdown",
   "metadata": {},
   "source": [
    "\n",
    "\n",
    "### Exercise 6: Handle IndexError in List Operations\n",
    "Write a Python program that executes an operation on a list and handles an `IndexError` exception if the index is out of range.\n",
    "\n",
    "\n"
   ]
  },
  {
   "cell_type": "code",
   "execution_count": 29,
   "metadata": {},
   "outputs": [
    {
     "name": "stdout",
     "output_type": "stream",
     "text": [
      "Error: That index is out of range.\n"
     ]
    }
   ],
   "source": [
    "# Your code here\n",
    "\n",
    "# Program to handle index out of range error\n",
    "\n",
    "my_list = [10, 20, 30, 40, 50]\n",
    "\n",
    "try:\n",
    "    index = int(input(\"Enter the index of the item you want to access (0-4): \"))\n",
    "    print(\"Item at index\", index, \"is\", my_list[index])\n",
    "\n",
    "except IndexError:\n",
    "    print(\"Error: That index is out of range.\")\n",
    "\n",
    "except ValueError:\n",
    "    print(\"Error: Please enter a valid integer index.\")\n"
   ]
  },
  {
   "cell_type": "markdown",
   "metadata": {},
   "source": [
    "\n",
    "\n",
    "### Exercise 7: Handle KeyboardInterrupt Exception\n",
    "Write a Python program that prompts the user to input a number and handles a `KeyboardInterrupt` exception if the user cancels the input.\n",
    "\n"
   ]
  },
  {
   "cell_type": "code",
   "execution_count": 31,
   "metadata": {},
   "outputs": [
    {
     "name": "stdout",
     "output_type": "stream",
     "text": [
      "\n",
      "Input cancelled by user (KeyboardInterrupt).\n"
     ]
    }
   ],
   "source": [
    "# Your code here\n",
    "\n",
    "# Program to handle KeyboardInterrupt when user cancels input\n",
    "\n",
    "try:\n",
    "    number = input(\"Enter a number (press Ctrl+C to cancel): \")\n",
    "    number = float(number)\n",
    "    print(\"You entered:\", number)\n",
    "\n",
    "except KeyboardInterrupt:\n",
    "    print(\"\\nInput cancelled by user (KeyboardInterrupt).\")\n",
    "\n",
    "except ValueError:\n",
    "    print(\"Error: That was not a valid number.\")\n"
   ]
  },
  {
   "cell_type": "markdown",
   "metadata": {},
   "source": [
    "\n",
    "\n",
    "### Exercise 8: Handle ArithmeticError\n",
    "Write a Python program that executes division and handles an `ArithmeticError` exception if there is an arithmetic error.\n",
    "\n"
   ]
  },
  {
   "cell_type": "code",
   "execution_count": 33,
   "metadata": {},
   "outputs": [
    {
     "name": "stdout",
     "output_type": "stream",
     "text": [
      "Arithmetic Error occurred: float division by zero\n"
     ]
    }
   ],
   "source": [
    "# Your code here\n",
    "\n",
    "# Program to handle arithmetic errors using ArithmeticError\n",
    "\n",
    "try:\n",
    "    numerator = float(input(\"Enter the numerator: \"))\n",
    "    denominator = float(input(\"Enter the denominator: \"))\n",
    "    result = numerator / denominator\n",
    "    print(\"Result:\", result)\n",
    "\n",
    "except ArithmeticError as ae:\n",
    "    print(\"Arithmetic Error occurred:\", ae)\n",
    "\n",
    "except ValueError:\n",
    "    print(\"Error: Please enter valid numbers.\")\n"
   ]
  },
  {
   "cell_type": "markdown",
   "metadata": {},
   "source": [
    "\n",
    "\n",
    "### Exercise 9: Handle UnicodeDecodeError\n",
    "Write a Python program that opens a file and handles a `UnicodeDecodeError` exception if there is an encoding issue.\n",
    "\n"
   ]
  },
  {
   "cell_type": "code",
   "execution_count": 34,
   "metadata": {},
   "outputs": [
    {
     "name": "stdout",
     "output_type": "stream",
     "text": [
      "Error: The file was not found.\n"
     ]
    }
   ],
   "source": [
    "# Your code here\n",
    "\n",
    "# Program to handle UnicodeDecodeError while reading a file\n",
    "\n",
    "try:\n",
    "    filename = input(\"Enter the filename to open: \")\n",
    "    \n",
    "    # Try to open the file using default encoding (usually UTF-8)\n",
    "    with open(filename, 'r') as file:\n",
    "        content = file.read()\n",
    "        print(\"\\nFile content:\\n\", content)\n",
    "\n",
    "except UnicodeDecodeError:\n",
    "    print(\"Error: Unable to decode the file. It may have an unsupported or different encoding.\")\n",
    "\n",
    "except FileNotFoundError:\n",
    "    print(\"Error: The file was not found.\")\n",
    "\n",
    "except PermissionError:\n",
    "    print(\"Error: You do not have permission to read this file.\")\n"
   ]
  },
  {
   "cell_type": "markdown",
   "metadata": {},
   "source": [
    "\n",
    "\n",
    "### Exercise 10: Handle AttributeError\n",
    "Write a Python program that executes an operation on an object and handles an `AttributeError` exception if the attribute does not exist.\n",
    "\n"
   ]
  },
  {
   "cell_type": "code",
   "execution_count": 36,
   "metadata": {},
   "outputs": [
    {
     "name": "stdout",
     "output_type": "stream",
     "text": [
      "Attribute Error: 'MyClass' object has no attribute 'say_hello'\n"
     ]
    }
   ],
   "source": [
    "# Your code here\n",
    "\n",
    "# Program to handle AttributeError when accessing a non-existent attribute or method\n",
    "\n",
    "class MyClass:\n",
    "    def greet(self):\n",
    "        print(\"Hello from MyClass!\")\n",
    "\n",
    "obj = MyClass()\n",
    "\n",
    "try:\n",
    "    # Try to call a method or access an attribute that doesn't exist\n",
    "    obj.say_hello()  # This method is not defined in MyClass\n",
    "\n",
    "except AttributeError as ae:\n",
    "    print(\"Attribute Error:\", ae)\n"
   ]
  },
  {
   "cell_type": "markdown",
   "metadata": {},
   "source": [
    "\n",
    "\n",
    "## Bonus Exercises\n",
    "\n",
    "### Bonus Exercise 1: Handle Multiple Exceptions\n",
    "Write a Python program that demonstrates handling multiple exceptions in one block.\n",
    "\n",
    "\n"
   ]
  },
  {
   "cell_type": "code",
   "execution_count": 37,
   "metadata": {},
   "outputs": [
    {
     "name": "stdout",
     "output_type": "stream",
     "text": [
      "An error occurred: invalid literal for int() with base 10: 'ten'\n",
      "Program continues...\n"
     ]
    }
   ],
   "source": [
    "# Your code here\n",
    "\n",
    "# Program to demonstrate handling multiple exceptions\n",
    "\n",
    "try:\n",
    "    num1 = int(input(\"Enter the numerator: \"))\n",
    "    num2 = int(input(\"Enter the denominator: \"))\n",
    "    result = num1 / num2\n",
    "    print(\"Result:\", result)\n",
    "\n",
    "except (ZeroDivisionError, ValueError) as e:\n",
    "    print(\"An error occurred:\", e)\n",
    "\n",
    "print(\"Program continues...\")\n"
   ]
  },
  {
   "cell_type": "markdown",
   "metadata": {},
   "source": [
    "\n",
    "\n",
    "### Bonus Exercise 2: Create Custom Exception\n",
    "Create a custom exception class and raise it in your code when certain conditions are met.\n",
    "\n",
    "\n"
   ]
  },
  {
   "cell_type": "code",
   "execution_count": 38,
   "metadata": {},
   "outputs": [
    {
     "name": "stdout",
     "output_type": "stream",
     "text": [
      "Custom Exception Caught: Negative number entered!\n"
     ]
    }
   ],
   "source": [
    "# Your code here\n",
    "# Define a custom exception\n",
    "class NegativeNumberError(Exception):\n",
    "    \"\"\"Exception raised when a negative number is entered.\"\"\"\n",
    "    pass\n",
    "\n",
    "# Main program\n",
    "try:\n",
    "    number = int(input(\"Enter a positive number: \"))\n",
    "    \n",
    "    if number < 0:\n",
    "        raise NegativeNumberError(\"Negative number entered!\")\n",
    "\n",
    "    print(\"You entered:\", number)\n",
    "\n",
    "except NegativeNumberError as e:\n",
    "    print(\"Custom Exception Caught:\", e)\n",
    "\n",
    "except ValueError:\n",
    "    print(\"Error: Please enter a valid integer.\")\n"
   ]
  },
  {
   "cell_type": "markdown",
   "metadata": {},
   "source": [
    "\n",
    "\n",
    "### Bonus Exercise 3: Validate User Input with Exception Handling\n",
    "Write a program that repeatedly prompts the user for valid input until they provide it, using exception handling to manage invalid inputs.\n",
    "\n"
   ]
  },
  {
   "cell_type": "code",
   "execution_count": 39,
   "metadata": {},
   "outputs": [
    {
     "name": "stdout",
     "output_type": "stream",
     "text": [
      "Invalid input: Number must be greater than zero.\n",
      "Invalid input: Number must be greater than zero.\n",
      "You entered a valid number: 5\n"
     ]
    }
   ],
   "source": [
    "# Your code here\n",
    "\n",
    "# Program to repeatedly prompt for valid input using exception handling\n",
    "\n",
    "while True:\n",
    "    try:\n",
    "        user_input = input(\"Enter a positive integer: \")\n",
    "        number = int(user_input)\n",
    "\n",
    "        if number <= 0:\n",
    "            raise ValueError(\"Number must be greater than zero.\")\n",
    "\n",
    "        # If input is valid, break the loop\n",
    "        print(\"You entered a valid number:\", number)\n",
    "        break\n",
    "\n",
    "    except ValueError as e:\n",
    "        print(\"Invalid input:\", e)\n",
    "\n",
    "    except KeyboardInterrupt:\n",
    "        print(\"\\nInput cancelled by user.\")\n",
    "        break\n",
    "\n"
   ]
  },
  {
   "cell_type": "markdown",
   "metadata": {},
   "source": [
    "\n",
    "\n",
    "### Bonus Exercise 4: Log Errors to File\n",
    "Modify your error handling to log errors to a text file instead of printing them to the console.\n",
    "\n"
   ]
  },
  {
   "cell_type": "code",
   "execution_count": 41,
   "metadata": {},
   "outputs": [
    {
     "name": "stdout",
     "output_type": "stream",
     "text": [
      "You entered a valid number: 20\n"
     ]
    }
   ],
   "source": [
    "# Your code here\n",
    "\n",
    "import logging\n",
    "\n",
    "# Set up logging configuration\n",
    "logging.basicConfig(\n",
    "    filename='error_log.txt',        # Log file name\n",
    "    level=logging.ERROR,             # Log only errors and above\n",
    "    format='%(asctime)s - %(levelname)s - %(message)s'\n",
    ")\n",
    "\n",
    "# Program to repeatedly prompt until valid input is given\n",
    "while True:\n",
    "    try:\n",
    "        user_input = input(\"Enter a positive integer: \")\n",
    "        number = int(user_input)\n",
    "\n",
    "        if number <= 0:\n",
    "            raise ValueError(\"Number must be greater than zero.\")\n",
    "\n",
    "        # If input is valid, break the loop\n",
    "        print(\"You entered a valid number:\", number)\n",
    "        break\n",
    "\n",
    "    except ValueError as e:\n",
    "        logging.error(f\"Invalid input: {e}\")\n",
    "\n",
    "    except KeyboardInterrupt:\n",
    "        logging.error(\"Input cancelled by user with KeyboardInterrupt.\")\n",
    "        print(\"\\nProgram interrupted by user.\")\n",
    "        break\n"
   ]
  },
  {
   "cell_type": "markdown",
   "metadata": {},
   "source": [
    "\n",
    "\n",
    "### Bonus Exercise 5: Retry Logic on Exception\n",
    "Implement retry logic for operations that could fail, allowing users to try again after encountering an error.\n",
    "\n"
   ]
  },
  {
   "cell_type": "code",
   "execution_count": 43,
   "metadata": {},
   "outputs": [
    {
     "name": "stdout",
     "output_type": "stream",
     "text": [
      "Result: 5.0\n"
     ]
    }
   ],
   "source": [
    "# Your code here\n",
    "\n",
    "import logging\n",
    "\n",
    "# Configure logging\n",
    "logging.basicConfig(\n",
    "    filename='retry_errors.log',\n",
    "    level=logging.ERROR,\n",
    "    format='%(asctime)s - %(levelname)s - %(message)s'\n",
    ")\n",
    "\n",
    "MAX_RETRIES = 3\n",
    "attempt = 0\n",
    "\n",
    "while attempt < MAX_RETRIES:\n",
    "    try:\n",
    "        num1 = float(input(\"Enter the numerator: \"))\n",
    "        num2 = float(input(\"Enter the denominator: \"))\n",
    "\n",
    "        result = num1 / num2\n",
    "        print(\"Result:\", result)\n",
    "        break  # Exit loop if successful\n",
    "\n",
    "    except ZeroDivisionError as e:\n",
    "        logging.error(f\"Attempt {attempt + 1}: Division by zero error: {e}\")\n",
    "        print(\"Error: Cannot divide by zero. Please try again.\")\n",
    "\n",
    "    except ValueError as e:\n",
    "        logging.error(f\"Attempt {attempt + 1}: Invalid numeric input: {e}\")\n",
    "        print(\"Error: Please enter valid numbers.\")\n",
    "\n",
    "    except KeyboardInterrupt:\n",
    "        logging.error(\"User cancelled the input (KeyboardInterrupt).\")\n",
    "        print(\"\\nOperation cancelled by user.\")\n",
    "        break\n",
    "\n",
    "    attempt += 1\n",
    "\n",
    "else:\n",
    "    print(f\"Maximum retry limit ({MAX_RETRIES}) reached. Operation failed.\")\n"
   ]
  }
 ],
 "metadata": {
  "kernelspec": {
   "display_name": "Python 3",
   "language": "python",
   "name": "python3"
  },
  "language_info": {
   "codemirror_mode": {
    "name": "ipython",
    "version": 3
   },
   "file_extension": ".py",
   "mimetype": "text/x-python",
   "name": "python",
   "nbconvert_exporter": "python",
   "pygments_lexer": "ipython3",
   "version": "3.13.5"
  }
 },
 "nbformat": 4,
 "nbformat_minor": 2
}
